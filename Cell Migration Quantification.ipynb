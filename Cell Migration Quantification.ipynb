{
 "cells": [
  {
   "cell_type": "markdown",
   "metadata": {},
   "source": [
    "# Quantify Cell Migration"
   ]
  },
  {
   "cell_type": "code",
   "execution_count": 9,
   "metadata": {
    "genepattern": {
     "name": "Login",
     "server": "https://cloud.genepattern.org/gp",
     "type": "auth"
    }
   },
   "outputs": [
    {
     "data": {
      "application/vnd.jupyter.widget-view+json": {
       "model_id": "5f74fb0d633c47c59cf41c43cc2fafd9",
       "version_major": 2,
       "version_minor": 0
      },
      "text/plain": [
       "GPAuthWidget()"
      ]
     },
     "metadata": {},
     "output_type": "display_data"
    }
   ],
   "source": [
    "# Requires GenePattern Notebook: pip install genepattern-notebook\n",
    "import gp\n",
    "import genepattern\n",
    "\n",
    "# Username and password removed for security reasons.\n",
    "genepattern.display(genepattern.session.register(\"https://cloud.genepattern.org/gp\", \"\", \"\"))"
   ]
  },
  {
   "cell_type": "markdown",
   "metadata": {},
   "source": [
    "This notebook accompanies version 2 of the publication \n",
    "\n",
    "> Juarez EF, Garri C, Ghaffarizadeh A et al. Quantification of cancer cell migration with an integrated experimental-computational pipeline [version 1; peer review: 2 approved with reservations]. F1000Research 2018, 7:1296\n",
    "(https://doi.org/10.12688/f1000research.15599.1)"
   ]
  },
  {
   "cell_type": "markdown",
   "metadata": {},
   "source": [
    "<div class=\"alert alert-info\">\n",
    "<h3 style=\"margin-top: 0;\"> Instructions <i class=\"fa fa-info-circle\"></i></h3>\n",
    "    \n",
    "- When you see a blue box like this one, follow those instructions to run this notebook successfully.  \n",
    "- Run through the each of the 3 steps outlined in this notebook in order.\n",
    "</div>"
   ]
  },
  {
   "cell_type": "markdown",
   "metadata": {
    "heading_collapsed": true
   },
   "source": [
    "# Technical Requirements"
   ]
  },
  {
   "cell_type": "markdown",
   "metadata": {
    "hidden": true
   },
   "source": [
    "<div class=\"well well-sm\">\n",
    "<ul>\n",
    "<li> This notebook uses the standard GPNB docker container taged \"latest\" on 2019-04-01  </li>\n",
    "<li> Using the Python 3.6 Kernel  </li>\n",
    "<li> Added libraries are opencv-python==4.0.0.21, seaborn==0.9.0, cuzcatlan==0.9.3, and humanfriendly==4.12.1</li>\n",
    "</ul>\n",
    "</div>"
   ]
  },
  {
   "cell_type": "code",
   "execution_count": 1,
   "metadata": {
    "hidden": true,
    "nbtools": {
     "description": "Checking if all requirements are satisfied. Particulally, checking if opencv-python==4.0.0.21, seaborn==0.9.0, cuzcatlan==0.9.3, and humanfriendly==4.12.1 are installed",
     "name": "Python Results",
     "show_code": false,
     "type": "uioutput"
    }
   },
   "outputs": [
    {
     "data": {
      "application/vnd.jupyter.widget-view+json": {
       "model_id": "b6c9929d774e477d8e8b02cd00ac7a89",
       "version_major": 2,
       "version_minor": 0
      },
      "text/plain": [
       "UIOutput(description='Checking if all requirements are satisfied. Particulally, checking if opencv-python==4.0…"
      ]
     },
     "metadata": {},
     "output_type": "display_data"
    }
   ],
   "source": [
    "from nbtools import UIOutput\n",
    "uio = UIOutput(description='Checking if all requirements are satisfied. Particulally, checking if opencv-python==4.0.0.21, seaborn==0.9.0, cuzcatlan==0.9.3, and humanfriendly==4.12.1 are installed')\n",
    "display(uio)\n",
    "\n",
    "\n",
    "try:\n",
    "    uio.status = 'Checking...'\n",
    "    import subprocess\n",
    "    from IPython.core.display import HTML\n",
    "    from IPython.display import Javascript\n",
    "    import cv2\n",
    "    import seaborn as sns\n",
    "    from cuzcatlan import add_stat_annotation\n",
    "    import humanfriendly\n",
    "    import nbtools\n",
    "    uio.status = 'Done!'\n",
    "    \n",
    "except ModuleNotFoundError:\n",
    "    uio.status = 'Installing...'\n",
    "    out = subprocess.run([\"pip\", \"install\",\"--user\",\"-U\", \"opencv-python==4.0.0.21\",\"seaborn==0.9.0\", \"cuzcatlan==0.9.3\",\"humanfriendly==4.12.1\"])\n",
    "    if out.returncode == 0:\n",
    "        print(\"Successfully installed opencv-python==4.0.0.21, seaborn==0.9.0, and cuzcatlan==0.9.3\")\n",
    "        HTML(\"<script>Jupyter.notebook.kernel.restart()</script>\")\n",
    "        display(Javascript('require(\"notebook/js/notebook\").Notebook.prototype.scroll_to_bottom = function () {}'))\n",
    "        display(Javascript('IPython.notebook.execute_all_cells()'))\n",
    "        \n",
    "        uio.status = 'Done!'\n",
    "    else:\n",
    "        uio.status = 'Unexected error.'\n",
    "        print(out)\n",
    "except ImportError:\n",
    "    uio.status = 'Installing...'\n",
    "    out = subprocess.run([\"pip\", \"install\",\"--user\",\"-U\", \"opencv-python==4.0.0.21\",\"seaborn==0.9.0\", \"cuzcatlan==0.9.3\",\"humanfriendly==4.12.1\"])\n",
    "    if out.returncode == 0:\n",
    "        print(\"Successfully installed opencv-python==4.0.0.21, seaborn==0.9.0, and cuzcatlan==0.9.3\")\n",
    "        HTML(\"<script>Jupyter.notebook.kernel.restart()</script>\")\n",
    "        display(Javascript('require(\"notebook/js/notebook\").Notebook.prototype.scroll_to_bottom = function () {}'))\n",
    "        display(Javascript('IPython.notebook.execute_all_cells()'))\n",
    "        uio.status = 'Done!'\n",
    "    else:\n",
    "        uio.status = 'Unexected error.'\n",
    "        print(out)"
   ]
  },
  {
   "cell_type": "code",
   "execution_count": 2,
   "metadata": {
    "genepattern": {
     "name": "Login",
     "server": "https://cloud.genepattern.org/gp",
     "type": "auth"
    },
    "hidden": true,
    "scrolled": true
   },
   "outputs": [
    {
     "data": {
      "application/vnd.jupyter.widget-view+json": {
       "model_id": "29984c372bfd4bfc834e5202b475c8fd",
       "version_major": 2,
       "version_minor": 0
      },
      "text/plain": [
       "GPAuthWidget()"
      ]
     },
     "metadata": {},
     "output_type": "display_data"
    }
   ],
   "source": [
    "# Requires GenePattern Notebook: pip install genepattern-notebook\n",
    "import gp\n",
    "import genepattern\n",
    "\n",
    "# Username and password removed for security reasons.\n",
    "genepattern.display(genepattern.session.register(\"https://cloud.genepattern.org/gp\", \"\", \"\"))"
   ]
  },
  {
   "cell_type": "markdown",
   "metadata": {},
   "source": [
    "# Analyses"
   ]
  },
  {
   "cell_type": "markdown",
   "metadata": {},
   "source": [
    "## Step 1: Find cells on control image"
   ]
  },
  {
   "cell_type": "markdown",
   "metadata": {},
   "source": [
    "<div class=\"alert alert-info\">\n",
    "<h3 style=\"margin-top: 0;\"> Instructions <i class=\"fa fa-info-circle\"></i></h3>\n",
    "\n",
    "- Upload the negative control image (i.e., the one where the migration region is most clearly visible). For the example choose 'MDA231_stopper_1_c3.tif' from the dropdown menu.<br>\n",
    "    \n",
    "- Optionally, change <b>kernel size</b> and <b>pixel threshold</b> to iteratively improve the creation of the cells mask.\n",
    "</div>"
   ]
  },
  {
   "cell_type": "code",
   "execution_count": 3,
   "metadata": {
    "nbtools": {
     "description": "",
     "name": "create_mask",
     "origin": "Notebook",
     "param_values": {
      "control": [
       "https://github.com/edjuaro/cell-migration-quantification/raw/master/images/MDA231_stopper_1_c3.tif"
      ],
      "kernel_size": "2",
      "output_var": "setup",
      "pixel_threshold": "20",
      "setup": "{}"
     },
     "show_code": false,
     "type": "uibuilder"
    }
   },
   "outputs": [
    {
     "data": {
      "application/vnd.jupyter.widget-view+json": {
       "model_id": "20ef7db3113f42e6a417afba2ea00c66",
       "version_major": 2,
       "version_minor": 0
      },
      "text/plain": [
       "UIBuilder(function_import='create_mask', name='create_mask', origin='Notebook', params=[{'name': 'control', 'l…"
      ]
     },
     "metadata": {},
     "output_type": "display_data"
    }
   ],
   "source": [
    "%matplotlib inline\n",
    "# following the floodfill algorithm described in https://www.learnopencv.com/filling-holes-in-an-image-using-opencv-python-c/\n",
    "import cv2\n",
    "import numpy as np\n",
    "from skimage import draw\n",
    "from skimage import io\n",
    "import matplotlib.pyplot as plt\n",
    "from scipy import optimize\n",
    "import humanfriendly\n",
    "from timeit import default_timer as timer\n",
    "import os\n",
    "import pandas as pd\n",
    "import seaborn as sns\n",
    "from cuzcatlan import add_stat_annotation\n",
    "import subprocess\n",
    "import validators\n",
    "from urllib.parse import urlparse\n",
    "\n",
    "def cost(params):\n",
    "    global im2\n",
    "    maxy, maxx = im2.shape\n",
    "    maxr = min(maxx,maxy)/2\n",
    "    area = maxy*maxx\n",
    "    \n",
    "    x0= params[0]\n",
    "    y0 = params[1]\n",
    "    r0 = params[2]\n",
    "    \n",
    "    coords = draw.circle(y0, x0, r0, shape=im2.shape)\n",
    "    template = np.zeros_like(im2) #set all values to be zero\n",
    "    template[coords] = 1\n",
    "    \n",
    "    mask_size = np.sum(template)\n",
    "    cell_pixels_covered_by_mask = np.sum(template&im2)\n",
    "    penalty_harshness = 10\n",
    "    \n",
    "    score = mask_size - penalty_harshness*cell_pixels_covered_by_mask\n",
    "    score = score/area\n",
    "        \n",
    "    return -score\n",
    "\n",
    "def download(url):\n",
    "    filename = os.path.basename(urlparse(url).path)\n",
    "    if not os.path.isfile(filename):\n",
    "        subprocess.check_output(['wget',url])\n",
    "        print(f'The file named \"{filename}\" was downloaded from the url.')\n",
    "    return filename\n",
    "\n",
    "setup = {}\n",
    "@genepattern.build_ui(parameters={\n",
    "    \"control\": {        \n",
    "        \"type\": \"file\",\n",
    "        \"kinds\": [\"tif\", \"png\",'jpg'],\n",
    "        \"description\":'The image where the migration region will be identified.',\n",
    "        \"choices\":{\"MDA231_stopper_1_c3.tif\":\"https://github.com/edjuaro/cell-migration-quantification/raw/master/images/MDA231_stopper_1_c3.tif\"},\n",
    "    },\n",
    "    \"setup\": {\n",
    "        \"default\": setup,\n",
    "        \"hide\":True,\n",
    "    },\n",
    "    \"kernel_size\": {\n",
    "        \"type\":'number',\n",
    "        \"default\": 2,\n",
    "        \"hide\":False,\n",
    "        \"description\":'The smaller, the finer the mask. Typically the default (2) is good enough.',\n",
    "    },\n",
    "    \"pixel_threshold\": {\n",
    "        \"type\":'number',\n",
    "        \"default\": 20,\n",
    "        \"hide\":False,\n",
    "        \"description\":'The pixel intensity value to clasify a cell to be black (0) or white (255). Typically the default (20) is good enough.',\n",
    "    },\n",
    "    \n",
    "    \"output_var\": {\n",
    "        \"default\": \"setup\",\n",
    "        \"description\": \"The results of the function, must be called 'setup'\",\n",
    "        \"hide\": True,\n",
    "    }\n",
    "})\n",
    "def create_mask(control,kernel_size=2, pixel_threshold=20,setup='setup'):\n",
    "    setup = {}\n",
    "    beginning_of_time = timer()\n",
    "    if validators.url(control):\n",
    "        control = download(control) \n",
    "    # Read image\n",
    "    im_in = cv2.imread(control, cv2.IMREAD_GRAYSCALE)\n",
    "    \n",
    "    if pixel_threshold > 255:\n",
    "        pixel_threshold = 255\n",
    "    elif pixel_threshold < 0:\n",
    "        pixel_threshold = 0\n",
    "\n",
    "    # Threshold. ==> These could be parameters\n",
    "    # Set values equal to or above 20 to 0.\n",
    "    # Set values below 20 to 255.\n",
    "    th, im_th = cv2.threshold(im_in, 20, 255, cv2.THRESH_BINARY_INV)\n",
    "\n",
    "    # Copy the thresholded image.\n",
    "    im_floodfill = im_th.copy()\n",
    "\n",
    "    # Mask used to flood filling.\n",
    "    # Notice the size needs to be 2 pixels than the image.\n",
    "    h, w = im_th.shape[:2]\n",
    "    mask = np.zeros((h+2, w+2), np.uint8)\n",
    "\n",
    "    # Floodfill from point (0, 0)\n",
    "    cv2.floodFill(im_floodfill, mask, (0,0), 255);\n",
    "\n",
    "    # Invert floodfilled image\n",
    "    im_floodfill_inv = cv2.bitwise_not(im_floodfill)\n",
    "\n",
    "    # Combine the two images to get the foreground.\n",
    "    im_out = im_th | im_floodfill_inv\n",
    "    io.imsave(fname='temp_output.png', arr=im_out)\n",
    "\n",
    "    # im_out_inv = cv2.bitwise_not(im_out)\n",
    "\n",
    "\n",
    "    # dilate the mask:\n",
    "    k_size = kernel_size\n",
    "    k_half = k_size/2\n",
    "    kernel = np.ones((k_size,k_size),np.uint8)\n",
    "    coords = draw.circle(k_half, k_half, k_half, shape=im_th.shape)\n",
    "    kernel[coords] = 1 \n",
    "    erosion = cv2.erode(im_out,kernel,iterations = 1)\n",
    "    dilation = cv2.dilate(cv2.bitwise_not(erosion),kernel,iterations = 1)\n",
    "    # cells_mask = cv2.bitwise_not(dilation)\n",
    "    cells_mask = dilation/255\n",
    "    \n",
    "    setup['control_grayscale'] = im_in\n",
    "    setup['mask'] = cells_mask\n",
    "\n",
    "\n",
    "    io.imshow(cells_mask)\n",
    "    plt.show()\n",
    "    \n",
    "    print(\"Note that a value of ~1 means that pixel belongs to the mask and it is rendered as white.\")\n",
    "    print(\"A value of 0 means it deos not belong the mask and it is rendered as black.\")\n",
    "    end_of_time = timer()\n",
    "    spanned = end_of_time - beginning_of_time\n",
    "    print(f\"\\nDone with this part of the workflow. Elapsed time: {humanfriendly.format_timespan(spanned)}.\")\n",
    "    return setup\n",
    "    "
   ]
  },
  {
   "cell_type": "markdown",
   "metadata": {},
   "source": [
    "##  Step 2: Find migration region"
   ]
  },
  {
   "cell_type": "markdown",
   "metadata": {},
   "source": [
    "<div class=\"alert alert-info\">\n",
    "<h3 style=\"margin-top: 0;\"> Instructions <i class=\"fa fa-info-circle\"></i></h3>\n",
    "\n",
    "- Run the cell below to find the migration region, adjust the finesse parameter if you are not satisfied with the results.\n",
    "</div>"
   ]
  },
  {
   "cell_type": "code",
   "execution_count": 4,
   "metadata": {
    "nbtools": {
     "description": "",
     "name": "find_migration_region",
     "origin": "Notebook",
     "param_values": {
      "finesse": "6",
      "output_var": "setup",
      "setup": "setup"
     },
     "show_code": false,
     "type": "uibuilder"
    }
   },
   "outputs": [
    {
     "data": {
      "application/vnd.jupyter.widget-view+json": {
       "model_id": "5e16d98502a64553af8af5ef0b2eaf03",
       "version_major": 2,
       "version_minor": 0
      },
      "text/plain": [
       "UIBuilder(function_import='find_migration_region', name='find_migration_region', origin='Notebook', params=[{'…"
      ]
     },
     "metadata": {},
     "output_type": "display_data"
    }
   ],
   "source": [
    "@genepattern.build_ui(\n",
    "    parameters={\n",
    "    \"setup\": {\n",
    "        \"default\": setup,\n",
    "        \"hide\":True,\n",
    "    },\n",
    "    \"finesse\": {\n",
    "        \"default\":6,\n",
    "        \"hide\":False,\n",
    "        \"description\":\"How carefully to choose the migration region. Higher numbers will yield more accurate results at the cost of much more runtime.\",\n",
    "    },\n",
    "    \"output_var\": {\n",
    "        \"default\": \"setup\",\n",
    "        \"description\": \"The results of the function, must be called 'setup'\",\n",
    "        \"hide\": True,\n",
    "    }\n",
    "    \n",
    "}\n",
    ")\n",
    "def find_migration_region(setup='setup',finesse=20):\n",
    "    beginning_of_time = timer()\n",
    "    \n",
    "    global im2\n",
    "    im2 = setup['control_grayscale']>0.2\n",
    "    im2 = im2.astype(int)\n",
    "    \n",
    "    maxy, maxx = im2.shape\n",
    "    minx, miny = (0,0)\n",
    "    maxr = min(maxx,maxy)/2\n",
    "\n",
    "    x0 = im2.shape[1]/2\n",
    "    y0 = im2.shape[0]/2\n",
    "    r0 = min(im2.shape[1],im2.shape[0])/4\n",
    "    \n",
    "    xmid = im2.shape[1]/2\n",
    "    ymid = im2.shape[0]/2\n",
    "    rmid = min(xmid,ymid)\n",
    "\n",
    "    coarse = finesse*1/3\n",
    "\n",
    "    # do fit, here with leastsq model\n",
    "    # minner = Minimizer(cost_obj, params)\n",
    "    x_slice = slice(xmid-x0/4, xmid+x0/4, (x0/2)/coarse)\n",
    "    y_slice = slice(ymid-x0/4, ymid+x0/4, (y0/2)/coarse)\n",
    "    r_slice = slice(rmid-x0/4, rmid+x0/4, (r0/2)/finesse)\n",
    "    rranges = (x_slice,y_slice, r_slice)\n",
    "    print('About to perform optimization. This would take a few seconds to a few minutes.')\n",
    "\n",
    "    resbrute = optimize.brute(cost, rranges,full_output=True)\n",
    "\n",
    "    # result = minner.minimize(method='brute',ranges=rranges)\n",
    "    # report_fit(result)\n",
    "    print('############')\n",
    "    method = 'scipy.brute'\n",
    "    opt_params = resbrute[0]\n",
    "    x_opt = opt_params[0]\n",
    "    y_opt = opt_params[1]\n",
    "    r_opt = opt_params[2]\n",
    "    print(\"Optimal paramters are\", [x_opt,y_opt,r_opt])\n",
    "    print(\"Units are pixels.\")\n",
    "    f, ax = plt.subplots()\n",
    "    circle = plt.Circle((x_opt, y_opt), r_opt, alpha = 0.5)\n",
    "    ax.imshow(im2, cmap='gray', interpolation='nearest')\n",
    "    ax.add_artist(circle)\n",
    "    print('############')\n",
    "    print(f'Method \"{method}\"\"\\tobjective={cost([x_opt,y_opt,r_opt])}')\n",
    "    print(\"The smaller the objective function value, the better (negative numbers are OK).\")\n",
    "    print('############')\n",
    "    plt.show()\n",
    "    \n",
    "    coords = draw.circle(y0, x0, r0, shape=im2.shape)\n",
    "    template = np.zeros_like(im2) #set all values to be zero\n",
    "    template[coords] = 1\n",
    "    \n",
    "    setup['im2'] = im2\n",
    "    setup['opt_params'] = opt_params\n",
    "    setup['x_opt'] = x_opt\n",
    "    setup['y_opt'] = y_opt\n",
    "    setup['r_opt'] = r_opt\n",
    "    setup['circle'] = circle\n",
    "    setup['coords'] = coords\n",
    "    setup['template'] = template\n",
    "    \n",
    "    end_of_time = timer()\n",
    "    spanned = end_of_time - beginning_of_time\n",
    "    print(f\"\\nDone with this part of the workflow. Elapsed time: {humanfriendly.format_timespan(spanned)}.\")\n",
    "    \n",
    "    return setup"
   ]
  },
  {
   "cell_type": "markdown",
   "metadata": {},
   "source": [
    "<div class=\"alert alert-info\">\n",
    "<h3 style=\"margin-top: 0;\"> Instructions <i class=\"fa fa-info-circle\"></i></h3>\n",
    "\n",
    "</div>"
   ]
  },
  {
   "cell_type": "markdown",
   "metadata": {},
   "source": [
    "## Step 3: Upload files"
   ]
  },
  {
   "cell_type": "markdown",
   "metadata": {},
   "source": [
    "In this step we will quantify the cell migration on the provided images. Please either upload your images in the cell below or download the ones used in the \"Quantification of cancer cell migration with an integrated experimental-computational pipeline \" paper by following instructions in the next step (\"Optional: reproduce Juarez et al. 2018\")."
   ]
  },
  {
   "cell_type": "markdown",
   "metadata": {},
   "source": [
    "<div class=\"alert alert-info\">\n",
    "<h3 style=\"margin-top: 0;\"> Instructions <i class=\"fa fa-info-circle\"></i></h3>\n",
    "\n",
    "<ol>\n",
    "    <li>Select how many images you will upload.</li>\n",
    "    <li>Click <b>Run</b></li>\n",
    "    <li>For each image, click <b>Upload File...</b> and selec it from your local files</li>\n",
    "</ol>\n",
    "<b>Note:</b> Please name your files by groups. For example, all of the files with a stopper should have a unique word associated with them (e.g., stopper), this naming convention will be used in the next step.\n",
    "</div>"
   ]
  },
  {
   "cell_type": "code",
   "execution_count": 11,
   "metadata": {
    "nbtools": {
     "description": "",
     "name": "upload_files",
     "origin": "Notebook",
     "param_values": {
      "file_0": "",
      "file_1": [
       "MDA231_AGR2ab-150_1_c3.tif"
      ],
      "file_2": [
       "MDA231_AGR2ab-150_2_c3.tif"
      ],
      "file_3": [
       "MDA231_stopper_1_c3.tif"
      ],
      "file_4": [
       "MDA231_stopper_2_c3.tif"
      ],
      "file_5": [
       "MDA231_untreated_1_c3.tif"
      ],
      "file_6": [
       "MDA231_untreated_2_c3.tif"
      ],
      "how_many": "6",
      "output_var": "None"
     },
     "show_code": false,
     "type": "uibuilder"
    }
   },
   "outputs": [
    {
     "data": {
      "application/vnd.jupyter.widget-view+json": {
       "model_id": "815e8bd2f7e54944a1c8b459ba5b651e",
       "version_major": 2,
       "version_minor": 0
      },
      "text/plain": [
       "UIBuilder(function_import='upload_files', name='upload_files', origin='Notebook', params=[{'name': 'how_many',…"
      ]
     },
     "metadata": {},
     "output_type": "display_data"
    }
   ],
   "source": [
    "@genepattern.build_ui(parameters={\n",
    "    \"how_many\": {\n",
    "        \"type\": \"number\",\n",
    "        \"description\":\"How many files to upload\",\n",
    "    },\n",
    "    \"output_var\": {\n",
    "        \"default\": None,\n",
    "        \"hide\": True,\n",
    "    }\n",
    "})\n",
    "def upload_files(how_many=2):\n",
    "    files = ''\n",
    "    decorator_string = ''\n",
    "    for i in range(how_many):\n",
    "        current_file = 'file_'+str(i+1)+', '\n",
    "        files += current_file\n",
    "        current_decorator = '\"%s\": {\"type\": \"file\", \"kinds\": [\"tif\", \"png\",\"jpg\"],},' % (current_file.strip(', '))\n",
    "        decorator_string += current_decorator\n",
    "    \n",
    "    func = '''\n",
    "@genepattern.build_ui(parameters={\"output_var\": {\"default\": None,\"hide\": True,},\"setup\":{\"default\": setup,\"hide\":True,},%s})\n",
    "def file_example(%s):\n",
    "    setup['uploaded_files'] = [%s]\n",
    "    print(\"All files were uploaded. Move along.\")\n",
    "    return\n",
    "'''% (decorator_string,files,files)\n",
    "    get_ipython().run_cell(func) ## This runs the code in the outer scope, so no need to return 'setup'"
   ]
  },
  {
   "cell_type": "markdown",
   "metadata": {
    "heading_collapsed": true
   },
   "source": [
    "### Optional: reproduce Juarez et al. 2018"
   ]
  },
  {
   "cell_type": "markdown",
   "metadata": {
    "hidden": true
   },
   "source": [
    "<div class=\"alert alert-warning\">\n",
    "<h3 style=\"margin-top: 0;\"> Warning! <i class=\"fa fa-exclamation-circle\"></i></h3>\n",
    "<b>Only run this step if you are interested in replicating the results from Juarez et al. 2018</b>\n",
    "</div>"
   ]
  },
  {
   "cell_type": "markdown",
   "metadata": {
    "hidden": true
   },
   "source": [
    "<div class=\"alert alert-info\">\n",
    "<h3 style=\"margin-top: 0;\"> Instructions <i class=\"fa fa-info-circle\"></i></h3>\n",
    "Click run to download the files from Juarez et al. 2018 \n",
    "</div>"
   ]
  },
  {
   "cell_type": "code",
   "execution_count": 6,
   "metadata": {
    "hidden": true,
    "nbtools": {
     "description": "This function downlowads the images used in Juarez et al. 2018",
     "name": "download_files_for_article_reproducibility",
     "origin": "Notebook",
     "param_values": {
      "output_var": "setup",
      "setup": "setup"
     },
     "show_code": false,
     "type": "uibuilder"
    }
   },
   "outputs": [
    {
     "data": {
      "application/vnd.jupyter.widget-view+json": {
       "model_id": "ce28786ce92a46d3b8a0c0822b369153",
       "version_major": 2,
       "version_minor": 0
      },
      "text/plain": [
       "UIBuilder(description='This function downlowads the images used in Juarez et al. 2018', function_import='downl…"
      ]
     },
     "metadata": {},
     "output_type": "display_data"
    }
   ],
   "source": [
    "@nbtools.build_ui(\n",
    "description=\"This function downlowads the images used in Juarez et al. 2018\",\n",
    "parameters={\n",
    "\"setup\": {\n",
    "        \"default\": \"setup\",\n",
    "        \"hide\":True,\n",
    "    },\n",
    "\"output_var\": {\n",
    "    \"default\": \"setup\",\n",
    "    \"description\": \"The results of the function, must be called 'setup'\",\n",
    "    \"hide\": True,\n",
    "    },\n",
    "})\n",
    "def download_files_for_article_reproducibility(setup=setup):\n",
    "    list_of_images = [\n",
    "        'https://github.com/edjuaro/cell-migration-quantification/raw/master/images/MDA231_stopper_1_c3.tif',\n",
    "        'https://github.com/edjuaro/cell-migration-quantification/raw/master/images/MDA231_stopper_2_c3.tif',\n",
    "        'https://github.com/edjuaro/cell-migration-quantification/raw/master/images/MDA231_stopper_3_c3.tif',\n",
    "        'https://github.com/edjuaro/cell-migration-quantification/raw/master/images/MDA231_stopper_4_c3.tif',\n",
    "        'https://github.com/edjuaro/cell-migration-quantification/raw/master/images/MDA231_untreated_1_c3.tif',\n",
    "        'https://github.com/edjuaro/cell-migration-quantification/raw/master/images/MDA231_untreated_2_c3.tif',\n",
    "        'https://github.com/edjuaro/cell-migration-quantification/raw/master/images/MDA231_untreated_3_c3.tif',\n",
    "        'https://github.com/edjuaro/cell-migration-quantification/raw/master/images/MDA231_untreated_4_c3.tif',\n",
    "        'https://github.com/edjuaro/cell-migration-quantification/raw/master/images/MDA231_AGR2ab-150_1_c3.tif',\n",
    "        'https://github.com/edjuaro/cell-migration-quantification/raw/master/images/MDA231_AGR2ab-150_2_c3.tif',\n",
    "        'https://github.com/edjuaro/cell-migration-quantification/raw/master/images/MDA231_AGR2ab-150_3_c3.tif',\n",
    "        'https://github.com/edjuaro/cell-migration-quantification/raw/master/images/MDA231_AGR2ab-150_4_c3.tif',\n",
    "        'https://github.com/edjuaro/cell-migration-quantification/raw/master/images/MDA231_Taxol10nM_1_c3.tif',\n",
    "        'https://github.com/edjuaro/cell-migration-quantification/raw/master/images/MDA231_Taxol10nM_2_c3.tif',\n",
    "        'https://github.com/edjuaro/cell-migration-quantification/raw/master/images/MDA231_Taxol10nM_3_c3.tif',\n",
    "        'https://github.com/edjuaro/cell-migration-quantification/raw/master/images/MDA231_Taxol10nM_4_c3.tif',\n",
    "        'https://github.com/edjuaro/cell-migration-quantification/raw/master/images/MDA231_IgG-150_1_c3.tif',\n",
    "        'https://github.com/edjuaro/cell-migration-quantification/raw/master/images/MDA231_IgG-150_2_c3.tif',\n",
    "        'https://github.com/edjuaro/cell-migration-quantification/raw/master/images/MDA231_IgG-150_3_c3.tif',\n",
    "        'https://github.com/edjuaro/cell-migration-quantification/raw/master/images/MDA231_IgG-150_4_c3.tif',\n",
    "    ]\n",
    "    downloaded_filenames = []\n",
    "    for image in sorted(list_of_images):\n",
    "        file = download(image)\n",
    "        downloaded_filenames.append(file)\n",
    "    setup['uploaded_files'] = downloaded_filenames\n",
    "    print(\"All files downloaded.\")\n",
    "    return setup"
   ]
  },
  {
   "cell_type": "markdown",
   "metadata": {},
   "source": [
    "## Step 4: Compute and plot migration quantification"
   ]
  },
  {
   "cell_type": "markdown",
   "metadata": {},
   "source": [
    "<div class=\"alert alert-info\">\n",
    "<h3 style=\"margin-top: 0;\"> Instructions <i class=\"fa fa-info-circle\"></i></h3>\n",
    "Make sure you have uploaded the images you will test.\n",
    "</div>"
   ]
  },
  {
   "cell_type": "code",
   "execution_count": 7,
   "metadata": {
    "nbtools": {
     "description": "",
     "name": "load_images",
     "origin": "Notebook",
     "param_values": {
      "conditions": "stopper, AGR2ab, untreated, Taxol, IgG",
      "conditions_to_compare": "untreated, AGR2ab; AGR2ab, stopper; untreated, Taxol",
      "folder": "N/A",
      "images_to_upload": [],
      "list_of_groups": "stopper, untreated, AGR2ab, Taxol, IgG",
      "output_var": "None",
      "setup": "setup",
      "statistical_test": "Mann-Whitney",
      "statistical_tests": "N/A",
      "upload_method": "folder",
      "verbose": "false"
     },
     "show_code": false,
     "type": "uibuilder"
    }
   },
   "outputs": [
    {
     "data": {
      "application/vnd.jupyter.widget-view+json": {
       "model_id": "f4c10d8c9d77492bb3d157aebbb3c862",
       "version_major": 2,
       "version_minor": 0
      },
      "text/plain": [
       "UIBuilder(function_import='load_images', name='load_images', origin='Notebook', params=[{'name': 'conditions',…"
      ]
     },
     "metadata": {},
     "output_type": "display_data"
    }
   ],
   "source": [
    "@nbtools.build_ui(parameters={\n",
    "    \"setup\": {\n",
    "        \"default\": setup,\n",
    "        \"hide\":True,\n",
    "    },\n",
    "    \"folder\": {\n",
    "        \"default\":\"N/A\",\n",
    "        \"description\":\"The name (including relative path, e.g., 'assays/images/') of the folder where the images are. Leave as 'N/A if you uploaded your files in the previous step.'\",\n",
    "    },\n",
    "    \"conditions\": {\n",
    "        \"default\":\"N/A\",\n",
    "        \"description\":\"The list of conditions by which to group images **separated by a coma and a space** (e.g., 'stopper, untreated, AGR2ab, Taxol, IgG'). These words need to be part of the naming convention.\",\n",
    "    },\n",
    "    \"conditions_to_compare\": {\n",
    "        \"default\":\"N/A\",\n",
    "        \"description\":\"The list of conditions to compare (using the selected statistical text -- Wilcoxon) **pairs separated by a coma and a space; tests separated by semicolon and space** (e.g., 'untreated, AGR2ab; untreated, Taxol; untreated, IgG'). These words need to be part of the naming convention. Leave as 'N/A' for no test.\",\n",
    "    },\n",
    "    \"statistical_test\": {\n",
    "        \"default\": \"Mann-Whitney\",\n",
    "        \"type\": \"choice\",\n",
    "        \"choices\": {\n",
    "            \"Recomended: Mann-Whitney (Wilcoxon)\": \"Mann-Whitney\",\n",
    "            \"t-test (independent samples)\": \"t-test_ind\",\n",
    "            \"Rarely used: t-test (technical replicates)\": \"t-test_paired\",\n",
    "        }\n",
    "    },\n",
    "    \"output_var\": {\n",
    "        \"default\": None,\n",
    "        \"hide\": True,\n",
    "    }\n",
    "})\n",
    "def load_images(conditions,statistical_test = 'wilcoxon', conditions_to_compare='N/A',folder='N/A',setup=setup,verbose=False):\n",
    "    if 'N/A' in folder:\n",
    "        all_files = setup['uploaded_files']\n",
    "    else:\n",
    "        all_files = sorted(os.listdir(folder))\n",
    "        ### Add a helpful error message is folder is selected by no images present\n",
    "    \n",
    "    filename = []\n",
    "    condition = []\n",
    "    percent_covered = []\n",
    "    \n",
    "    if isinstance(conditions, str):\n",
    "        conditions = conditions.split(', ')\n",
    "    \n",
    "    if isinstance(conditions_to_compare, str):\n",
    "        conditions_to_compare = conditions_to_compare.split('; ')\n",
    "    \n",
    "    if 'N/A' in conditions_to_compare:\n",
    "        to_test = []\n",
    "    else:\n",
    "        to_test = []\n",
    "        for temp in conditions_to_compare:\n",
    "            temp_tuple = tuple(temp.split(', '))\n",
    "            to_test.append(temp_tuple)\n",
    "      \n",
    "    for category in conditions:\n",
    "        curr_files = [i for i in all_files if category in i]\n",
    "        if verbose:\n",
    "            print(category,curr_files)\n",
    "        for image in curr_files:\n",
    "            if verbose:\n",
    "                print(f\"\\tWorking with {image}\")\n",
    "            if 'N/A' in folder:\n",
    "                current_filename = image\n",
    "            else:\n",
    "                current_filename = os.path.join(folder,image)\n",
    "            im = io.imread(current_filename,as_gray=True)\n",
    "            im01 = im>0\n",
    "            im01 = im01.astype(int)\n",
    "            if False:\n",
    "                f, ax = plt.subplots()\n",
    "                ax.imshow(im01, cmap='gray')\n",
    "                circle = plt.Circle((setup['x_opt'], setup['y_opt']), setup['r_opt'], alpha = 0.5)\n",
    "                ax.add_artist(circle)\n",
    "                plt.show()\n",
    "            \n",
    "            # create the mask on top of this image\n",
    "            coords = draw.circle(setup['y_opt'], setup['x_opt'], setup['r_opt'], shape=im01.shape)\n",
    "            template = np.zeros_like(im01) #set all values to be zero\n",
    "            template[coords] = 1\n",
    "            cell_pixels_covered_by_mask = np.sum(template&im01)\n",
    "#             print(100*cell_pixels_covered_by_mask/np.sum(template))\n",
    "            filename.append(image)\n",
    "            condition.append(category)\n",
    "            percent_covered.append(100*cell_pixels_covered_by_mask/np.sum(template))\n",
    "            \n",
    "    df = pd.DataFrame({\"condition\": condition, \"percent_covered\": percent_covered, \"filename\" : filename})\n",
    "\n",
    "\n",
    "    f, ax = plt.subplots(figsize=(16,9))\n",
    "    ax=sns.barplot(x=\"condition\", y=\"percent_covered\", data=df, dodge=1, ax=ax, ci=None)\n",
    "    ax=sns.stripplot(x=\"condition\", y=\"percent_covered\", data=df, ax=ax, linewidth=2, edgecolor='gray')\n",
    "    if to_test:\n",
    "        add_stat_annotation(ax, data=df, x='condition', y='percent_covered',\n",
    "                            boxPairList=to_test,\n",
    "                            test=statistical_test, textFormat='star', loc='inside', verbose=2)\n",
    "    return "
   ]
  },
  {
   "cell_type": "code",
   "execution_count": null,
   "metadata": {},
   "outputs": [],
   "source": []
  }
 ],
 "metadata": {
  "genepattern": {
   "repository_url": "http://notebook.genepattern.org/services/sharing/notebooks/330/"
  },
  "kernelspec": {
   "display_name": "Python 3.6",
   "language": "python",
   "name": "python3.6"
  },
  "language_info": {
   "codemirror_mode": {
    "name": "ipython",
    "version": 3
   },
   "file_extension": ".py",
   "mimetype": "text/x-python",
   "name": "python",
   "nbconvert_exporter": "python",
   "pygments_lexer": "ipython3",
   "version": "3.6.7"
  },
  "toc": {
   "base_numbering": 1,
   "nav_menu": {},
   "number_sections": false,
   "sideBar": true,
   "skip_h1_title": false,
   "title_cell": "Table of Contents",
   "title_sidebar": "Contents",
   "toc_cell": false,
   "toc_position": {},
   "toc_section_display": true,
   "toc_window_display": false
  }
 },
 "nbformat": 4,
 "nbformat_minor": 2
}
